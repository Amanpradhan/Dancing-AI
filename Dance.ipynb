{
 "cells": [
  {
   "cell_type": "code",
   "execution_count": 1,
   "metadata": {
    "collapsed": true
   },
   "outputs": [],
   "source": [
    "PART_1_SKIP = True\n",
    "PART_2_SKIP = True\n",
    "PART_3_SKIP = True"
   ]
  },
  {
   "cell_type": "code",
   "execution_count": 2,
   "metadata": {
    "collapsed": true
   },
   "outputs": [],
   "source": [
    "import numpy as np\n",
    "import pandas as pd\n",
    "import cv2\n",
    "import matplotlib.pyplot as plt\n",
    "\n",
    "import skimage\n",
    "from PIL import Image\n",
    "from skimage.io import imread, imshow, imread_collection, concatenate_images\n",
    "from skimage.transform import resize\n",
    "from skimage.util import crop, pad\n",
    "from skimage.morphology import label\n",
    "from skimage.color import rgb2gray, gray2rgb\n",
    "\n",
    "import os\n",
    "\n",
    "import zipfile\n",
    "z = zipfile.ZipFile('Dancer_Images.zip', 'w')"
   ]
  },
  {
   "cell_type": "code",
   "execution_count": 3,
   "metadata": {},
   "outputs": [
    {
     "name": "stdout",
     "output_type": "stream",
     "text": [
      "29.97003017816262\n"
     ]
    }
   ],
   "source": [
    "cap = cv2.VideoCapture('/home/aman/Downloads/dancing_silhouette.mp4')\n",
    "print(cap.get(cv2.CAP_PROP_FPS))"
   ]
  },
  {
   "cell_type": "code",
   "execution_count": 4,
   "metadata": {},
   "outputs": [
    {
     "name": "stdout",
     "output_type": "stream",
     "text": [
      "CPU times: user 3 µs, sys: 0 ns, total: 3 µs\n",
      "Wall time: 4.29 µs\n"
     ]
    }
   ],
   "source": [
    "%%time\n",
    "\n",
    "if PART_1_SKIP == False:\n",
    "    try:\n",
    "        if not os.path.exists('data'):\n",
    "            os.makedirs('data')\n",
    "    except OSError:\n",
    "        print ('Error: Creating directory of data')\n",
    "\n",
    "    currentFrame = 0\n",
    "    count = 0\n",
    "    TRAIN_SIZE = 27000\n",
    "    FRAME_SKIP = 2\n",
    "    IMG_WIDTH = 96\n",
    "    IMG_HEIGHT = 64\n",
    "    IMG_CHANNELS = 1\n",
    "    X_train = np.zeros((TRAIN_SIZE, IMG_HEIGHT, IMG_WIDTH, IMG_CHANNELS), dtype='float32')\n",
    "    \n",
    "    video = cv2.VideoWriter('Simple_Shadow_Dancer_Video.avi',cv2.VideoWriter_fourcc(*\"MJPG\"), 30, (IMG_WIDTH, IMG_HEIGHT), False)\n",
    "\n",
    "    while(count < TRAIN_SIZE):\n",
    "        try:\n",
    "            ret, frame = cap.read()\n",
    "\n",
    "            if currentFrame % FRAME_SKIP == 0:\n",
    "                count += 1\n",
    "                if count % int(TRAIN_SIZE/10) == 0:\n",
    "                    print(str((count/TRAIN_SIZE)*100)+\"% done\")\n",
    "                # preprocess frames\n",
    "                img = frame\n",
    "                img = rgb2gray(img)\n",
    "                img = resize(img, (IMG_HEIGHT, IMG_WIDTH, IMG_CHANNELS), mode='constant', preserve_range=True)\n",
    "                img[img > 0.2] = 255\n",
    "                img[img <= 0.2] = 0\n",
    "                # save frame to zip and new video sample\n",
    "                name = './data/frame' + str(count) + '.jpg'\n",
    "                cv2.imwrite(name, img)\n",
    "                #video.write(gray2rgb(img.astype('uint8')))\n",
    "                video.write(img.astype('uint8'))\n",
    "                z.write(name)\n",
    "                os.remove(name)\n",
    "                # save image to training set if training directly to part 2\n",
    "                img = img.astype('float32') / 255.\n",
    "                X_train[count] = img\n",
    "        except:\n",
    "            print('Frame error')\n",
    "            break\n",
    "        currentFrame += 1\n",
    "\n",
    "    print(str(count)+\" Frames collected\")\n",
    "    cap.release()\n",
    "    z.close()\n",
    "    video.release()"
   ]
  },
  {
   "cell_type": "code",
   "execution_count": 7,
   "metadata": {},
   "outputs": [],
   "source": [
    "import sys\n",
    "import random\n",
    "import warnings\n",
    "from pylab import imshow, show, get_cmap\n",
    "from tqdm import tqdm\n",
    "from itertools import chain\n",
    "\n",
    "from keras.models import Model, load_model, Sequential\n",
    "from keras.layers import Input, Dense, UpSampling2D, Flatten, Reshape\n",
    "from keras.layers.core import Dropout, Lambda\n",
    "from keras.layers.convolutional import Conv2D, Conv2DTranspose\n",
    "from keras.layers.pooling import MaxPooling2D\n",
    "from keras.layers.merge import concatenate\n",
    "from keras.callbacks import EarlyStopping, ModelCheckpoint, ReduceLROnPlateau, Callback\n",
    "from keras import backend as k\n",
    "import tensorflow as tf\n",
    "\n",
    "warnings.filterwarnings('ignore', category=UserWarning, module='skimage')\n",
    "seed = 42\n",
    "random.seed = seed\n",
    "np.random.seed = seed\n"
   ]
  },
  {
   "cell_type": "code",
   "execution_count": null,
   "metadata": {},
   "outputs": [
    {
     "name": "stderr",
     "output_type": "stream",
     "text": [
      "  1%|          | 156/27000 [00:00<00:17, 1558.58it/s]"
     ]
    },
    {
     "name": "stdout",
     "output_type": "stream",
     "text": [
      "Getting training images...\n"
     ]
    },
    {
     "name": "stderr",
     "output_type": "stream",
     "text": [
      " 81%|████████▏ | 21992/27000 [00:13<00:03, 1567.57it/s]"
     ]
    }
   ],
   "source": [
    "if PART_1_SKIP:\n",
    "    IMG_WIDTH = 96\n",
    "    IMG_HEIGHT = 64\n",
    "    IMG_CHANNELS = 1\n",
    "    INPUT_SHAPE = (IMG_HEIGHT, IMG_WIDTH, IMG_CHANNELS)\n",
    "    TRAIN_PATH = 'data/'\n",
    "    train_ids = next(os.walk(TRAIN_PATH))[2]\n",
    "    #l = list(os.listdir(TRAIN_PATH))\n",
    "    X_train = np.zeros((len(train_ids), IMG_HEIGHT, IMG_WIDTH, IMG_CHANNELS ), dtype = 'float32')\n",
    "    missing_count = 0\n",
    "    print('Getting training images...')\n",
    "    \n",
    "    for n, filename in enumerate(tqdm(os.listdir(TRAIN_PATH))):\n",
    "        PATH = TRAIN_PATH + filename\n",
    "        try:\n",
    "            img = imread(PATH)\n",
    "            img = img.astype('float32') / 255\n",
    "            img = resize(img, (IMG_HEIGHT, IMG_WIDTH, IMG_CHANNELS), mode='constant', preserve_range=True)\n",
    "            X_train[n-missing_count] = img\n",
    "        except:\n",
    "            print('Problem with %s', PATH)\n",
    "            missing_count += 1\n",
    "    print(f'Total missing {missing_count}')\n",
    "    \n",
    "else:\n",
    "    INPUT_SHAPE = (IMG_HEIGHT, IMG_WIDTH, IMG_CHANNELS)\n",
    "    "
   ]
  },
  {
   "cell_type": "code",
   "execution_count": null,
   "metadata": {
    "collapsed": true
   },
   "outputs": [],
   "source": []
  }
 ],
 "metadata": {
  "kernelspec": {
   "display_name": "dance",
   "language": "python",
   "name": "dance"
  },
  "language_info": {
   "codemirror_mode": {
    "name": "ipython",
    "version": 3
   },
   "file_extension": ".py",
   "mimetype": "text/x-python",
   "name": "python",
   "nbconvert_exporter": "python",
   "pygments_lexer": "ipython3",
   "version": "3.6.8"
  }
 },
 "nbformat": 4,
 "nbformat_minor": 2
}
