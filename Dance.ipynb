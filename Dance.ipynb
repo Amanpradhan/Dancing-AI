{
 "cells": [
  {
   "cell_type": "code",
   "execution_count": 1,
   "metadata": {},
   "outputs": [],
   "source": [
    "PART_1_SKIP = True\n",
    "PART_2_SKIP = True\n",
    "PART_3_SKIP = True"
   ]
  },
  {
   "cell_type": "code",
   "execution_count": 2,
   "metadata": {},
   "outputs": [],
   "source": [
    "import numpy as np\n",
    "import pandas as pd\n",
    "import cv2\n",
    "import matplotlib.pyplot as plt\n",
    "\n",
    "import skimage\n",
    "from PIL import Image\n",
    "from skimage.io import imread, imshow, imread_collection, concatenate_images\n",
    "from skimage.transform import resize\n",
    "from skimage.util import crop, pad\n",
    "from skimage.morphology import label\n",
    "from skimage.color import rgb2gray, gray2rgb\n",
    "\n",
    "import os\n",
    "\n",
    "import zipfile\n",
    "z = zipfile.ZipFile('Dancer_Images.zip', 'w')"
   ]
  },
  {
   "cell_type": "code",
   "execution_count": 3,
   "metadata": {},
   "outputs": [
    {
     "name": "stdout",
     "output_type": "stream",
     "text": [
      "0.0\n"
     ]
    }
   ],
   "source": [
    "cap = cv2.VideoCapture('/home/aman/Downloads/dancing_silhouette.mp4')\n",
    "print(cap.get(cv2.CAP_PROP_FPS))"
   ]
  },
  {
   "cell_type": "code",
   "execution_count": 4,
   "metadata": {},
   "outputs": [
    {
     "name": "stdout",
     "output_type": "stream",
     "text": [
      "CPU times: user 2 µs, sys: 0 ns, total: 2 µs\n",
      "Wall time: 4.53 µs\n"
     ]
    }
   ],
   "source": [
    "%%time\n",
    "\n",
    "if PART_1_SKIP == False:\n",
    "    try:\n",
    "        if not os.path.exists('data'):\n",
    "            os.makedirs('data')\n",
    "    except OSError:\n",
    "        print ('Error: Creating directory of data')\n",
    "\n",
    "    currentFrame = 0\n",
    "    count = 0\n",
    "    TRAIN_SIZE = 27000\n",
    "    FRAME_SKIP = 2\n",
    "    IMG_WIDTH = 96\n",
    "    IMG_HEIGHT = 64\n",
    "    IMG_CHANNELS = 1\n",
    "    X_train = np.zeros((TRAIN_SIZE, IMG_HEIGHT, IMG_WIDTH, IMG_CHANNELS), dtype='float32')\n",
    "    \n",
    "    video = cv2.VideoWriter('Simple_Shadow_Dancer_Video.avi',cv2.VideoWriter_fourcc(*\"MJPG\"), 30, (IMG_WIDTH, IMG_HEIGHT), False)\n",
    "\n",
    "    while(count < TRAIN_SIZE):\n",
    "        try:\n",
    "            ret, frame = cap.read()\n",
    "\n",
    "            if currentFrame % FRAME_SKIP == 0:\n",
    "                count += 1\n",
    "                if count % int(TRAIN_SIZE/10) == 0:\n",
    "                    print(str((count/TRAIN_SIZE)*100)+\"% done\")\n",
    "                # preprocess frames\n",
    "                img = frame\n",
    "                img = rgb2gray(img)\n",
    "                img = resize(img, (IMG_HEIGHT, IMG_WIDTH, IMG_CHANNELS), mode='constant', preserve_range=True)\n",
    "                img[img > 0.2] = 255\n",
    "                img[img <= 0.2] = 0\n",
    "                # save frame to zip and new video sample\n",
    "                name = './data/frame' + str(count) + '.jpg'\n",
    "                cv2.imwrite(name, img)\n",
    "                #video.write(gray2rgb(img.astype('uint8')))\n",
    "                video.write(img.astype('uint8'))\n",
    "                z.write(name)\n",
    "                os.remove(name)\n",
    "                # save image to training set if training directly to part 2\n",
    "                img = img.astype('float32') / 255.\n",
    "                X_train[count] = img\n",
    "        except:\n",
    "            print('Frame error')\n",
    "            break\n",
    "        currentFrame += 1\n",
    "\n",
    "    print(str(count)+\" Frames collected\")\n",
    "    cap.release()\n",
    "    z.close()\n",
    "    video.release()"
   ]
  },
  {
   "cell_type": "code",
   "execution_count": 5,
   "metadata": {},
   "outputs": [
    {
     "name": "stderr",
     "output_type": "stream",
     "text": [
      "Using TensorFlow backend.\n"
     ]
    }
   ],
   "source": [
    "import sys\n",
    "import random\n",
    "import warnings\n",
    "from pylab import imshow, show, get_cmap\n",
    "from tqdm import tqdm\n",
    "from itertools import chain\n",
    "\n",
    "from keras.models import Model, load_model, Sequential\n",
    "from keras.layers import Input, Dense, UpSampling2D, Flatten, Reshape\n",
    "from keras.layers.core import Dropout, Lambda\n",
    "from keras.layers.convolutional import Conv2D, Conv2DTranspose\n",
    "from keras.layers.pooling import MaxPooling2D\n",
    "from keras.layers.merge import concatenate\n",
    "from keras.callbacks import EarlyStopping, ModelCheckpoint, ReduceLROnPlateau, Callback\n",
    "from keras import backend as k\n",
    "import tensorflow as tf\n",
    "\n",
    "warnings.filterwarnings('ignore', category=UserWarning, module='skimage')\n",
    "seed = 42\n",
    "random.seed = seed\n",
    "np.random.seed = seed\n"
   ]
  },
  {
   "cell_type": "code",
   "execution_count": 6,
   "metadata": {},
   "outputs": [
    {
     "name": "stderr",
     "output_type": "stream",
     "text": [
      "  0%|          | 5/27000 [00:00<09:57, 45.15it/s]"
     ]
    },
    {
     "name": "stdout",
     "output_type": "stream",
     "text": [
      "Getting training images...\n"
     ]
    },
    {
     "name": "stderr",
     "output_type": "stream",
     "text": [
      "100%|██████████| 27000/27000 [08:52<00:00, 50.66it/s]"
     ]
    },
    {
     "name": "stdout",
     "output_type": "stream",
     "text": [
      "Total missing 0\n"
     ]
    },
    {
     "name": "stderr",
     "output_type": "stream",
     "text": [
      "\n"
     ]
    }
   ],
   "source": [
    "if PART_1_SKIP:\n",
    "    IMG_WIDTH = 96\n",
    "    IMG_HEIGHT = 64\n",
    "    IMG_CHANNELS = 1\n",
    "    INPUT_SHAPE = (IMG_HEIGHT, IMG_WIDTH, IMG_CHANNELS)\n",
    "    TRAIN_PATH = 'data/'\n",
    "    train_ids = next(os.walk(TRAIN_PATH))[2]\n",
    "    #l = list(os.listdir(TRAIN_PATH))\n",
    "    X_train = np.zeros((len(train_ids), IMG_HEIGHT, IMG_WIDTH, IMG_CHANNELS ), dtype = 'float32')\n",
    "    missing_count = 0\n",
    "    print('Getting training images...')\n",
    "    \n",
    "    for n, filename in enumerate(tqdm(os.listdir(TRAIN_PATH))):\n",
    "        PATH = TRAIN_PATH + filename\n",
    "        try:\n",
    "            img = imread(PATH)\n",
    "            img = img.astype('float32') / 255\n",
    "            img = resize(img, (IMG_HEIGHT, IMG_WIDTH, IMG_CHANNELS), mode='constant', preserve_range=True)\n",
    "            X_train[n-missing_count] = img\n",
    "        except:\n",
    "            print('Problem with %s', PATH)\n",
    "            missing_count += 1\n",
    "    print(f'Total missing {missing_count}')\n",
    "    \n",
    "else:\n",
    "    INPUT_SHAPE = (IMG_HEIGHT, IMG_WIDTH, IMG_CHANNELS)\n",
    "    "
   ]
  },
  {
   "cell_type": "code",
   "execution_count": 7,
   "metadata": {},
   "outputs": [
    {
     "data": {
      "image/png": "[encoded data removed]",
      "text/plain": [
       "<Figure size 432x288 with 1 Axes>"
      ]
     },
     "metadata": {
      "needs_background": "light"
     },
     "output_type": "display_data"
    },
    {
     "data": {
      "image/png": "[encoded data removed]",
      "text/plain": [
       "<Figure size 432x288 with 1 Axes>"
      ]
     },
     "metadata": {
      "needs_background": "light"
     },
     "output_type": "display_data"
    },
    {
     "data": {
      "image/png": "[encoded data removed]",
      "text/plain": [
       "<Figure size 432x288 with 1 Axes>"
      ]
     },
     "metadata": {
      "needs_background": "light"
     },
     "output_type": "display_data"
    },
    {
     "data": {
      "image/png": "[encoded data removed]",
      "text/plain": [
       "<Figure size 432x288 with 1 Axes>"
      ]
     },
     "metadata": {
      "needs_background": "light"
     },
     "output_type": "display_data"
    },
    {
     "data": {
      "image/png": "[encoded data removed]",
      "text/plain": [
       "<Figure size 432x288 with 1 Axes>"
      ]
     },
     "metadata": {
      "needs_background": "light"
     },
     "output_type": "display_data"
    }
   ],
   "source": [
    "for n in range(10, 15):\n",
    "    imshow(X_train[n].reshape(IMG_HEIGHT, IMG_WIDTH))\n",
    "    plt.show()"
   ]
  },
  {
   "cell_type": "code",
   "execution_count": 9,
   "metadata": {},
   "outputs": [
    {
     "name": "stdout",
     "output_type": "stream",
     "text": [
      "_________________________________________________________________\n",
      "Layer (type)                 Output Shape              Param #   \n",
      "=================================================================\n",
      "input_1 (InputLayer)         (None, 64, 96, 1)         0         \n",
      "_________________________________________________________________\n",
      "encode1 (Conv2D)             (None, 64, 96, 128)       2176      \n",
      "_________________________________________________________________\n",
      "encode2 (Conv2D)             (None, 64, 96, 64)        73792     \n",
      "_________________________________________________________________\n",
      "max_pooling2d_1 (MaxPooling2 (None, 32, 48, 64)        0         \n",
      "_________________________________________________________________\n",
      "encode3 (Conv2D)             (None, 32, 48, 64)        36928     \n",
      "_________________________________________________________________\n",
      "encode4 (Conv2D)             (None, 32, 48, 32)        8224      \n",
      "_________________________________________________________________\n",
      "max_pooling2d_2 (MaxPooling2 (None, 16, 24, 32)        0         \n",
      "_________________________________________________________________\n",
      "encode5 (Conv2D)             (None, 16, 24, 64)        18496     \n",
      "_________________________________________________________________\n",
      "encode6 (Conv2D)             (None, 16, 24, 32)        8224      \n",
      "_________________________________________________________________\n",
      "max_pooling2d_3 (MaxPooling2 (None, 8, 12, 32)         0         \n",
      "_________________________________________________________________\n",
      "encode7 (Conv2D)             (None, 8, 12, 64)         18496     \n",
      "_________________________________________________________________\n",
      "encode8 (Conv2D)             (None, 8, 12, 32)         8224      \n",
      "_________________________________________________________________\n",
      "max_pooling2d_4 (MaxPooling2 (None, 4, 6, 32)          0         \n",
      "_________________________________________________________________\n",
      "encode9 (Conv2D)             (None, 4, 6, 32)          9248      \n",
      "_________________________________________________________________\n",
      "flatten_1 (Flatten)          (None, 768)               0         \n",
      "_________________________________________________________________\n",
      "encode10 (Dense)             (None, 256)               196864    \n",
      "_________________________________________________________________\n",
      "encode11 (Dense)             (None, 128)               32896     \n",
      "=================================================================\n",
      "Total params: 413,568\n",
      "Trainable params: 413,568\n",
      "Non-trainable params: 0\n",
      "_________________________________________________________________\n"
     ]
    }
   ],
   "source": [
    "def Encoder():\n",
    "    inp = Input(shape=INPUT_SHAPE)\n",
    "    x = Conv2D(128, (4, 4), activation='elu', padding='same', name='encode1')(inp)\n",
    "    x = Conv2D(64, (3,3), activation='elu', padding='same', name='encode2')(x)\n",
    "    x = MaxPooling2D((2, 2), padding='same')(x)\n",
    "    x = Conv2D(64, (3, 3), activation='elu', padding='same', name='encode3')(x)\n",
    "    x = Conv2D(32, (2, 2), activation='elu', padding='same', name='encode4')(x)\n",
    "    x = MaxPooling2D((2, 2), padding='same')(x)\n",
    "    x = Conv2D(64, (3, 3), activation='elu', padding='same', name='encode5')(x)\n",
    "    x = Conv2D(32, (2, 2), activation='elu', padding='same', name='encode6')(x)\n",
    "    x = MaxPooling2D((2, 2), padding='same')(x)\n",
    "    x = Conv2D(64, (3, 3), activation='elu', padding='same', name='encode7')(x)\n",
    "    x = Conv2D(32, (2, 2), activation='elu', padding='same', name='encode8')(x)\n",
    "    x = MaxPooling2D((2, 2), padding='same')(x)\n",
    "    x = Conv2D(32, (3, 3), activation='elu', padding='same', name='encode9')(x)\n",
    "    x = Flatten()(x)\n",
    "    x = Dense(256, activation='elu', name='encode10')(x)\n",
    "    encoded = Dense(128, activation='sigmoid', name='encode11')(x)\n",
    "    return Model(inp, encoded)\n",
    "encoder = Encoder()\n",
    "encoder.summary()"
   ]
  },
  {
   "cell_type": "code",
   "execution_count": 12,
   "metadata": {},
   "outputs": [
    {
     "name": "stdout",
     "output_type": "stream",
     "text": [
      "_________________________________________________________________\n",
      "Layer (type)                 Output Shape              Param #   \n",
      "=================================================================\n",
      "decoder (InputLayer)         (None, 128)               0         \n",
      "_________________________________________________________________\n",
      "decode1 (Dense)              (None, 256)               33024     \n",
      "_________________________________________________________________\n",
      "decode2 (Dense)              (None, 768)               197376    \n",
      "_________________________________________________________________\n",
      "reshape_3 (Reshape)          (None, 4, 6, 32)          0         \n",
      "_________________________________________________________________\n",
      "decode3 (Conv2D)             (None, 4, 6, 32)          4128      \n",
      "_________________________________________________________________\n",
      "decode4 (Conv2D)             (None, 4, 6, 64)          18496     \n",
      "_________________________________________________________________\n",
      "up_sampling2d_5 (UpSampling2 (None, 8, 12, 64)         0         \n",
      "_________________________________________________________________\n",
      "decode5 (Conv2D)             (None, 8, 12, 32)         8224      \n",
      "_________________________________________________________________\n",
      "decode6 (Conv2D)             (None, 8, 12, 64)         18496     \n",
      "_________________________________________________________________\n",
      "up_sampling2d_6 (UpSampling2 (None, 16, 24, 64)        0         \n",
      "_________________________________________________________________\n",
      "decode7 (Conv2D)             (None, 16, 24, 64)        16448     \n",
      "_________________________________________________________________\n",
      "decode8 (Conv2D)             (None, 16, 24, 128)       73856     \n",
      "_________________________________________________________________\n",
      "up_sampling2d_7 (UpSampling2 (None, 32, 48, 128)       0         \n",
      "_________________________________________________________________\n",
      "decode9 (Conv2D)             (None, 32, 48, 64)        32832     \n",
      "_________________________________________________________________\n",
      "decode10 (Conv2D)            (None, 32, 48, 64)        65600     \n",
      "_________________________________________________________________\n",
      "decode11 (Conv2D)            (None, 32, 48, 128)       73856     \n",
      "_________________________________________________________________\n",
      "up_sampling2d_8 (UpSampling2 (None, 64, 96, 128)       0         \n",
      "_________________________________________________________________\n",
      "decode12 (Conv2D)            (None, 64, 96, 64)        131136    \n",
      "_________________________________________________________________\n",
      "decode13 (Conv2D)            (None, 64, 96, 32)        18464     \n",
      "_________________________________________________________________\n",
      "decode14 (Conv2D)            (None, 64, 96, 16)        2064      \n",
      "_________________________________________________________________\n",
      "decode15 (Conv2D)            (None, 64, 96, 1)         65        \n",
      "=================================================================\n",
      "Total params: 694,065\n",
      "Trainable params: 694,065\n",
      "Non-trainable params: 0\n",
      "_________________________________________________________________\n"
     ]
    }
   ],
   "source": [
    "D_INPUT_SHAPE = [ 128 ]\n",
    "def Decoder():\n",
    "    inp = Input(shape=D_INPUT_SHAPE, name='decoder')\n",
    "    x = Dense(256, activation='elu', name='decode1')(inp)\n",
    "    x = Dense(768, activation='elu', name='decode2')(x)\n",
    "    x = Reshape((4, 6, 32))(x)\n",
    "    x = Conv2D(32, (2, 2), activation='elu', padding='same', name='decode3')(x)\n",
    "    x = Conv2D(64, (3, 3), activation='elu', padding='same', name='decode4')(x)\n",
    "    x = UpSampling2D((2, 2))(x)\n",
    "    x = Conv2D(32, (2, 2), activation='elu', padding='same', name='decode5')(x)\n",
    "    x = Conv2D(64, (3, 3), activation='elu', padding='same', name='decode6')(x)\n",
    "    x = UpSampling2D((2, 2))(x)\n",
    "    x = Conv2D(64, (2, 2), activation='elu', padding='same', name='decode7')(x)\n",
    "    x = Conv2D(128, (3, 3), activation='elu', padding='same', name='decode8')(x)\n",
    "    x = UpSampling2D((2, 2))(x)\n",
    "    x = Conv2D(64, (2, 2), activation='elu', padding='same', name='decode9')(x)\n",
    "    x = Conv2D(64, (4, 4), activation='elu', padding='same', name='decode10')(x)\n",
    "    x = Conv2D(128, (3, 3), activation='elu', padding='same', name='decode11')(x)\n",
    "    x = UpSampling2D((2, 2))(x)\n",
    "    x = Conv2D(64, (4, 4), activation='elu', padding='same', name='decode12')(x)\n",
    "    x = Conv2D(32, (3, 3), activation='elu', padding='same', name='decode13')(x)\n",
    "    x = Conv2D(16, (2, 2), activation='elu', padding='same', name='decode14')(x)\n",
    "    decoded = Conv2D(1, (2, 2), activation='sigmoid', padding='same', name='decode15')(x)\n",
    "    return Model(inp, decoded)\n",
    "\n",
    "decoder = Decoder()\n",
    "decoder.summary()"
   ]
  },
  {
   "cell_type": "code",
   "execution_count": null,
   "metadata": {},
   "outputs": [],
   "source": [
    "def Autoencoder():\n",
    "    inp = Input(shape=INPUT_SHAPE)\n",
    "    x = Conv2D(128, (4, 4), "
   ]
  },
  {
   "cell_type": "code",
   "execution_count": null,
   "metadata": {},
   "outputs": [],
   "source": []
  }
 ],
 "metadata": {
  "kernelspec": {
   "display_name": "dance",
   "language": "python",
   "name": "dance"
  },
  "language_info": {
   "codemirror_mode": {
    "name": "ipython",
    "version": 3
   },
   "file_extension": ".py",
   "mimetype": "text/x-python",
   "name": "python",
   "nbconvert_exporter": "python",
   "pygments_lexer": "ipython3",
   "version": "3.6.8"
  }
 },
 "nbformat": 4,
 "nbformat_minor": 2
}
