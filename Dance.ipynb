{
 "cells": [
  {
   "cell_type": "code",
   "execution_count": 1,
   "metadata": {},
   "outputs": [],
   "source": [
    "PART_1_SKIP = False\n",
    "PART_2_SKIP = True\n",
    "PART_3_SKIP = True"
   ]
  },
  {
   "cell_type": "code",
   "execution_count": 2,
   "metadata": {},
   "outputs": [],
   "source": [
    "import numpy as np\n",
    "import pandas as pd\n",
    "import cv2\n",
    "import matplotlib.pyplot as plt\n",
    "\n",
    "import skimage\n",
    "from PIL import Image\n",
    "from skimage.io import imread, imshow, imread_collection, concatenate_images\n",
    "from skimage.transform import resize\n",
    "from skimage.util import crop, pad\n",
    "from skimage.morphology import label\n",
    "from skimage.color import rgb2gray, gray2rgb\n",
    "\n",
    "import os\n",
    "\n",
    "import zipfile\n",
    "z = zipfile.ZipFile('Dancer_Images.zip', 'w')"
   ]
  },
  {
   "cell_type": "code",
   "execution_count": 3,
   "metadata": {},
   "outputs": [
    {
     "name": "stdout",
     "output_type": "stream",
     "text": [
      "29.97003017816262\n"
     ]
    }
   ],
   "source": [
    "cap = cv2.VideoCapture('/home/aman/Downloads/dancing_silhouette.mp4')\n",
    "print(cap.get(cv2.CAP_PROP_FPS))"
   ]
  },
  {
   "cell_type": "code",
   "execution_count": 4,
   "metadata": {},
   "outputs": [],
   "source": [
    "# %%time\n",
    "\n",
    "# if PART_1_SKIP == False:\n",
    "#     try:\n",
    "#         if not os.path.exists('data'):\n",
    "#             os.makedirs('data')\n",
    "#     except OSError:\n",
    "#         print('Error: Creating Directory of Data')\n",
    "            \n",
    "#     currentFrame = 0\n",
    "#     count = 0\n",
    "#     TRAIN_SIZE = 27000\n",
    "#     FRAME_SKIP = 2\n",
    "#     IMG_HEIGHT = 96\n",
    "#     IMG_WIDTH = 64\n",
    "#     IMG_CHANNELS = 1\n",
    "#     X_train = np.zeros((TRAIN_SIZE, IMG_HEIGHT, IMG_WIDTH, IMG_CHANNELS), dtype='float32')\n",
    "#     video = cv2.VideoWriter('Shadow_Dancer.avi', cv2.VideoWriter_fourcc(*'XVID'), 30, (IMG_WIDTH, IMG_HEIGHT), False)\n",
    "    \n",
    "#     while(count < TRAIN_SIZE):\n",
    "#         try:\n",
    "#             ret, frame = cap.read()\n",
    "#             if currentFrame % FRAME_SKIP == 0:\n",
    "#                 count += 1\n",
    "#                 if count % int(TRAIN_SIZE/10) == 0:\n",
    "#                     print(str(count/TRAIN_SIZE * 100) + \"% done\")\n",
    "#                 ## Preprocessing frame\n",
    "#                 img = frame\n",
    "                \n",
    "#                 img = rgb2gray(img)\n",
    "#                 img = resize(img, (IMG_HEIGHT, IMG_WIDTH, IMG_CHANNELS), mode='constant', preserve_range=True)\n",
    "#                 img[img > 0.2] = 255\n",
    "#                 img[img <= 0.2] = 0\n",
    "#                 print(img.shape)\n",
    "#                 name = './data/frame' + str(count) + '.jpg'\n",
    "#                 cv2.imwrite(name, img)\n",
    "#                 video.write(gray2rgb(img.astype('uint8')))\n",
    "#                 z.write(name)\n",
    "#                 os.remove(name)\n",
    "#                 img = img.astype('float32')/255\n",
    "# #                 print('No exception')\n",
    "    \n",
    "#                 X_train[count] = img\n",
    "        \n",
    "        \n",
    "#         except:\n",
    "#             print('Frame Error'); print(count)\n",
    "#             break\n",
    "#         currentFrame += 1    \n",
    "#     print(str(count) + 'frames collected')\n",
    "#     cap.release()\n",
    "#     z.close()\n",
    "#     video.release()\n",
    "    "
   ]
  },
  {
   "cell_type": "code",
   "execution_count": 5,
   "metadata": {},
   "outputs": [
    {
     "name": "stderr",
     "output_type": "stream",
     "text": [
      "/home/aman/anaconda3/envs/dance/lib/python3.6/site-packages/skimage/transform/_warps.py:110: UserWarning: Anti-aliasing will be enabled by default in skimage 0.15 to avoid aliasing artifacts when down-sampling images.\n",
      "  warn(\"Anti-aliasing will be enabled by default in skimage 0.15 to \"\n"
     ]
    },
    {
     "name": "stdout",
     "output_type": "stream",
     "text": [
      "10.0% done\n",
      "20.0% done\n",
      "30.0% done\n",
      "40.0% done\n",
      "50.0% done\n",
      "60.0% done\n",
      "70.0% done\n",
      "80.0% done\n",
      "90.0% done\n",
      "100.0% done\n",
      "Frame error\n",
      "27000 Frames collected\n",
      "CPU times: user 3min 34s, sys: 1.96 s, total: 3min 36s\n",
      "Wall time: 3min 12s\n"
     ]
    }
   ],
   "source": [
    "%%time\n",
    "\n",
    "if PART_1_SKIP == False:\n",
    "    try:\n",
    "        if not os.path.exists('data'):\n",
    "            os.makedirs('data')\n",
    "    except OSError:\n",
    "        print ('Error: Creating directory of data')\n",
    "\n",
    "    currentFrame = 0\n",
    "    count = 0\n",
    "    TRAIN_SIZE = 27000\n",
    "    FRAME_SKIP = 2\n",
    "    IMG_WIDTH = 96\n",
    "    IMG_HEIGHT = 64\n",
    "    IMG_CHANNELS = 1\n",
    "    X_train = np.zeros((TRAIN_SIZE, IMG_HEIGHT, IMG_WIDTH, IMG_CHANNELS), dtype='float32')\n",
    "    \n",
    "    video = cv2.VideoWriter('Simple_Shadow_Dancer_Video.avi',cv2.VideoWriter_fourcc(*\"MJPG\"), 30, (IMG_WIDTH, IMG_HEIGHT), False)\n",
    "\n",
    "    while(count < TRAIN_SIZE):\n",
    "        try:\n",
    "            ret, frame = cap.read()\n",
    "\n",
    "            if currentFrame % FRAME_SKIP == 0:\n",
    "                count += 1\n",
    "                if count % int(TRAIN_SIZE/10) == 0:\n",
    "                    print(str((count/TRAIN_SIZE)*100)+\"% done\")\n",
    "                # preprocess frames\n",
    "                img = frame\n",
    "                img = rgb2gray(img)\n",
    "                img = resize(img, (IMG_HEIGHT, IMG_WIDTH, IMG_CHANNELS), mode='constant', preserve_range=True)\n",
    "                img[img > 0.2] = 255\n",
    "                img[img <= 0.2] = 0\n",
    "                # save frame to zip and new video sample\n",
    "                name = './data/frame' + str(count) + '.jpg'\n",
    "                cv2.imwrite(name, img)\n",
    "                #video.write(gray2rgb(img.astype('uint8')))\n",
    "                video.write(img.astype('uint8'))\n",
    "                z.write(name)\n",
    "                os.remove(name)\n",
    "                # save image to training set if training directly to part 2\n",
    "                img = img.astype('float32') / 255.\n",
    "                X_train[count] = img\n",
    "        except:\n",
    "            print('Frame error')\n",
    "            break\n",
    "        currentFrame += 1\n",
    "\n",
    "    print(str(count)+\" Frames collected\")\n",
    "    cap.release()\n",
    "    z.close()\n",
    "    video.release()"
   ]
  },
  {
   "cell_type": "code",
   "execution_count": null,
   "metadata": {},
   "outputs": [],
   "source": []
  }
 ],
 "metadata": {
  "kernelspec": {
   "display_name": "dance",
   "language": "python",
   "name": "dance"
  },
  "language_info": {
   "codemirror_mode": {
    "name": "ipython",
    "version": 3
   },
   "file_extension": ".py",
   "mimetype": "text/x-python",
   "name": "python",
   "nbconvert_exporter": "python",
   "pygments_lexer": "ipython3",
   "version": "3.6.8"
  }
 },
 "nbformat": 4,
 "nbformat_minor": 2
}
