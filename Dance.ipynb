{
 "cells": [
  {
   "cell_type": "code",
   "execution_count": 1,
   "metadata": {},
   "outputs": [],
   "source": [
    "PART_1_SKIP = True\n",
    "PART_2_SKIP = True\n",
    "PART_3_SKIP = True"
   ]
  },
  {
   "cell_type": "code",
   "execution_count": 3,
   "metadata": {},
   "outputs": [],
   "source": [
    "import numpy as np\n",
    "import pandas as pd\n",
    "import cv2\n",
    "import matplotlib.pyplot as plt\n",
    "\n",
    "import skimage\n",
    "from PIL import Image\n",
    "from skimage.io import imread, imshow, imread_collection, concatenate_images\n",
    "from skimage.transform import resize\n",
    "from skimage.util import crop, pad\n",
    "from skimage.morphology import label\n",
    "from skimage.color import rgb2gray, gray2rgb\n",
    "\n",
    "import os\n",
    "\n",
    "import zipfile\n",
    "z = zipfile.ZipFile('Dancer_Images.zip', 'w')"
   ]
  },
  {
   "cell_type": "code",
   "execution_count": 4,
   "metadata": {},
   "outputs": [
    {
     "name": "stdout",
     "output_type": "stream",
     "text": [
      "29.97003017816262\n"
     ]
    }
   ],
   "source": [
    "cap = cv2.VideoCapture('/home/aman/Downloads/dancing_silhouette.mp4')\n",
    "print(cap.get(cv2.CAP_PROP_FPS))"
   ]
  },
  {
   "cell_type": "code",
   "execution_count": 10,
   "metadata": {},
   "outputs": [
    {
     "name": "stdout",
     "output_type": "stream",
     "text": [
      "CPU times: user 2 µs, sys: 0 ns, total: 2 µs\n",
      "Wall time: 3.34 µs\n"
     ]
    }
   ],
   "source": [
    "%%time\n",
    "\n",
    "if PART_1_SKIP == False:\n",
    "    try:\n",
    "        if not os.path.xists('data'):\n",
    "            os.makedirs('data')\n",
    "        except OSError:\n",
    "            print('Error: Creating Directory of Data')\n",
    "            \n",
    "    currentFrame = 0\n",
    "    count = 0\n",
    "    TRAIN_SIZE = 27000\n",
    "    FRAME_SKIP = 2\n",
    "    IMG_HEIGHT = 96\n",
    "    IMG_WIDTH = 64\n",
    "    IMG_CHANNELS = 1\n",
    "    X_train = np.zeros((TRAIN_SIZE, IMG_HEIGHT, IMG_WIDTH, IMG_CHANNELS), dtype='float32')\n",
    "    video = cv2.VideoWriter('Shadow_Dancer.avi', cv2.VideoWriter_fourcc(*'MJPG'), 30, (IMG_WIDTH, IMG_HEIGHT), False)\n",
    "    \n",
    "    while(count < TRAIN_SIZE):\n",
    "        try:\n",
    "            ret, frame = cap.read()\n",
    "            if currentFrame % FRAME_SKIP == 0:\n",
    "                count += 1\n",
    "                if count % int(TRAIN_SIZE/10) == 0:\n",
    "                    print(str(count/TRAIN_SIZE * 100) + \"% done\")\n",
    "                ## Preprocessing frame\n",
    "                img = frame\n",
    "                img = rgb2gray(img)\n",
    "                img = resize(img, (IMG_HEIGHT, IMG_WIDTH, IMG_CHANNELS), mode='constant', preserve_range=True)\n",
    "        \n",
    "    "
   ]
  },
  {
   "cell_type": "code",
   "execution_count": null,
   "metadata": {},
   "outputs": [],
   "source": []
  }
 ],
 "metadata": {
  "kernelspec": {
   "display_name": "dance",
   "language": "python",
   "name": "dance"
  },
  "language_info": {
   "codemirror_mode": {
    "name": "ipython",
    "version": 3
   },
   "file_extension": ".py",
   "mimetype": "text/x-python",
   "name": "python",
   "nbconvert_exporter": "python",
   "pygments_lexer": "ipython3",
   "version": "3.6.8"
  }
 },
 "nbformat": 4,
 "nbformat_minor": 2
}
